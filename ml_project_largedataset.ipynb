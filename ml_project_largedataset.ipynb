{
  "nbformat": 4,
  "nbformat_minor": 0,
  "metadata": {
    "colab": {
      "provenance": []
    },
    "kernelspec": {
      "name": "python3",
      "display_name": "Python 3"
    },
    "language_info": {
      "name": "python"
    }
  },
  "cells": [
    {
      "cell_type": "code",
      "execution_count": null,
      "metadata": {
        "id": "L83VepztU5TC"
      },
      "outputs": [],
      "source": [
        "# === STEP 1: Import Libraries ===\n",
        "import pandas as pd\n",
        "import numpy as np\n",
        "from sklearn.model_selection import train_test_split\n",
        "from sklearn.feature_extraction.text import TfidfVectorizer\n",
        "from sklearn.svm import SVC\n",
        "from sklearn.ensemble import RandomForestClassifier\n",
        "from sklearn.metrics import accuracy_score, classification_report, confusion_matrix\n",
        "import joblib"
      ]
    },
    {
      "cell_type": "code",
      "source": [
        "# ============================================================\n",
        "# === STEP 2: Load Dataset ===\n",
        "# ============================================================\n",
        "# Make sure you upload 'malicious_phish.csv' to your Colab files before running this cell.\n",
        "df = pd.read_csv(\"/content/malicious_phish.csv\")\n",
        "\n",
        "print(\"✅ Dataset Loaded Successfully!\")\n",
        "print(\"Dataset Shape:\", df.shape)\n",
        "print(\"\\nType distribution:\\n\", df['type'].value_counts())"
      ],
      "metadata": {
        "id": "9oKvBu38U62e",
        "outputId": "bfe57e71-b2b1-420f-b1c4-e116cb07e80e",
        "colab": {
          "base_uri": "https://localhost:8080/"
        }
      },
      "execution_count": null,
      "outputs": [
        {
          "output_type": "stream",
          "name": "stdout",
          "text": [
            "✅ Dataset Loaded Successfully!\n",
            "Dataset Shape: (651191, 2)\n",
            "\n",
            "Type distribution:\n",
            " type\n",
            "benign        428103\n",
            "defacement     96457\n",
            "phishing       94111\n",
            "malware        32520\n",
            "Name: count, dtype: int64\n"
          ]
        }
      ]
    },
    {
      "cell_type": "code",
      "source": [
        "# ============================================================\n",
        "# === STEP 3: Convert to Binary Classification (Spam vs Non-Spam) ===\n",
        "# ============================================================\n",
        "\n",
        "# Mark benign as 0 (non-spam), others as 1 (spam)\n",
        "df['label'] = df['type'].apply(lambda x: 0 if x == 'benign' else 1)\n",
        "print(\"\\nLabel Distribution:\\n\", df['label'].value_counts())\n"
      ],
      "metadata": {
        "id": "QXIJ0k6ZU6zG",
        "outputId": "a22167dc-7e46-474f-e1b9-04bee857d56e",
        "colab": {
          "base_uri": "https://localhost:8080/"
        }
      },
      "execution_count": null,
      "outputs": [
        {
          "output_type": "stream",
          "name": "stdout",
          "text": [
            "\n",
            "Label Distribution:\n",
            " label\n",
            "0    428103\n",
            "1    223088\n",
            "Name: count, dtype: int64\n"
          ]
        }
      ]
    },
    {
      "cell_type": "code",
      "source": [
        "# ============================================================\n",
        "# === STEP 4: Balance Dataset ===\n",
        "# ============================================================\n",
        "\n",
        "# Separate classes\n",
        "spam_df = df[df['label'] == 1]\n",
        "benign_df = df[df['label'] == 0]\n",
        "\n",
        "# Balance both classes to equal count\n",
        "min_size = min(len(spam_df), len(benign_df))\n",
        "spam_df = spam_df.sample(min_size, random_state=42)\n",
        "benign_df = benign_df.sample(min_size, random_state=42)\n",
        "\n",
        "# Combine and shuffle\n",
        "balanced_df = pd.concat([spam_df, benign_df]).sample(frac=1, random_state=42)\n",
        "\n",
        "print(\"\\nBalanced Label Distribution:\\n\", balanced_df['label'].value_counts())\n",
        "print(\"✅ Dataset Balanced Successfully!\")"
      ],
      "metadata": {
        "id": "-jGStYjeU6xI",
        "outputId": "45ea8720-e543-482d-d830-bc49b2c40ea1",
        "colab": {
          "base_uri": "https://localhost:8080/"
        }
      },
      "execution_count": null,
      "outputs": [
        {
          "output_type": "stream",
          "name": "stdout",
          "text": [
            "\n",
            "Balanced Label Distribution:\n",
            " label\n",
            "1    223088\n",
            "0    223088\n",
            "Name: count, dtype: int64\n",
            "✅ Dataset Balanced Successfully!\n"
          ]
        }
      ]
    },
    {
      "cell_type": "code",
      "source": [
        "# ============================================================\n",
        "# === STEP 5: Prepare Features and Labels ===\n",
        "# ============================================================\n",
        "X = balanced_df['url']\n",
        "y = balanced_df['label']\n",
        "\n",
        "# Split into train/test\n",
        "X_train_raw, X_test_raw, y_train, y_test = train_test_split(\n",
        "    X, y, test_size=0.2, random_state=42, stratify=y\n",
        ")\n",
        "\n",
        "print(\"\\nTraining samples:\", len(X_train_raw))\n",
        "print(\"Testing samples:\", len(X_test_raw))"
      ],
      "metadata": {
        "id": "ojN_8v-PU6u_",
        "outputId": "b6811740-a1fc-4f95-c7f9-1a7118b4e4d2",
        "colab": {
          "base_uri": "https://localhost:8080/"
        }
      },
      "execution_count": null,
      "outputs": [
        {
          "output_type": "stream",
          "name": "stdout",
          "text": [
            "\n",
            "Training samples: 356940\n",
            "Testing samples: 89236\n"
          ]
        }
      ]
    },
    {
      "cell_type": "code",
      "source": [
        "# ============================================================\n",
        "# === STEP 6: Text Vectorization using TF-IDF ===\n",
        "# ============================================================\n",
        "vectorizer = TfidfVectorizer(max_features=3000)\n",
        "X_train = vectorizer.fit_transform(X_train_raw)\n",
        "X_test = vectorizer.transform(X_test_raw)\n",
        "\n",
        "print(\"\\n✅ TF-IDF Vectorization Complete\")\n",
        "print(\"Feature Matrix Shape:\", X_train.shape)"
      ],
      "metadata": {
        "id": "jfSHO5yFU6sy",
        "outputId": "99c7dcab-2bdc-4eff-e9e0-f816562634dd",
        "colab": {
          "base_uri": "https://localhost:8080/"
        }
      },
      "execution_count": null,
      "outputs": [
        {
          "output_type": "stream",
          "name": "stdout",
          "text": [
            "\n",
            "✅ TF-IDF Vectorization Complete\n",
            "Feature Matrix Shape: (356940, 3000)\n"
          ]
        }
      ]
    },
    {
      "cell_type": "code",
      "source": [
        "# ============================================================\n",
        "# === STEP 7: Train Models ===\n",
        "# ============================================================\n",
        "\n",
        "# --- Support Vector Machine ---\n",
        "print(\"\\n🎯 Training Support Vector Machine (SVM)...\")\n",
        "svm_model = SVC(kernel='linear', C=1, random_state=42)\n",
        "svm_model.fit(X_train, y_train)\n",
        "print(\"✅ SVM Model Trained Successfully!\")\n",
        "\n",
        "# --- Random Forest ---\n",
        "print(\"\\n🎯 Training Random Forest...\")\n",
        "rf_model = RandomForestClassifier(n_estimators=100, random_state=42)\n",
        "rf_model.fit(X_train, y_train)\n",
        "print(\"✅ Random Forest Model Trained Successfully!\")"
      ],
      "metadata": {
        "id": "QaiBmbDwU6qe",
        "outputId": "f1f4d194-6c08-4af0-92a9-3f46dfc96a47",
        "colab": {
          "base_uri": "https://localhost:8080/"
        }
      },
      "execution_count": null,
      "outputs": [
        {
          "output_type": "stream",
          "name": "stdout",
          "text": [
            "\n",
            "🎯 Training Support Vector Machine (SVM)...\n",
            "✅ SVM Model Trained Successfully!\n",
            "\n",
            "🎯 Training Random Forest...\n",
            "✅ Random Forest Model Trained Successfully!\n"
          ]
        }
      ]
    },
    {
      "cell_type": "code",
      "source": [
        "# ============================================================\n",
        "# === STEP 8: Model Evaluation ===\n",
        "# ============================================================\n",
        "print(\"\\n--- Model Evaluation ---\")\n",
        "\n",
        "# Predictions\n",
        "y_pred_svm = svm_model.predict(X_test)\n",
        "y_pred_rf = rf_model.predict(X_test)\n",
        "\n",
        "# Accuracy\n",
        "acc_svm = accuracy_score(y_test, y_pred_svm)\n",
        "acc_rf = accuracy_score(y_test, y_pred_rf)\n",
        "\n",
        "print(f\"\\nSVM Accuracy: {acc_svm:.4f}\")\n",
        "print(f\"Random Forest Accuracy: {acc_rf:.4f}\")\n",
        "\n",
        "# Detailed Report\n",
        "print(\"\\n--- SVM Classification Report ---\")\n",
        "print(classification_report(y_test, y_pred_svm))\n",
        "\n",
        "print(\"\\n--- Random Forest Classification Report ---\")\n",
        "print(classification_report(y_test, y_pred_rf))\n",
        "\n",
        "# Confusion Matrix (optional visualization)\n",
        "cm_svm = confusion_matrix(y_test, y_pred_svm)\n",
        "cm_rf = confusion_matrix(y_test, y_pred_rf)\n",
        "\n",
        "print(\"\\nSVM Confusion Matrix:\\n\", cm_svm)\n",
        "print(\"\\nRF Confusion Matrix:\\n\", cm_rf)"
      ],
      "metadata": {
        "id": "4Eb-hUF2U6oP",
        "outputId": "389ba6a2-8952-451c-de27-acb87cc6c258",
        "colab": {
          "base_uri": "https://localhost:8080/"
        }
      },
      "execution_count": null,
      "outputs": [
        {
          "output_type": "stream",
          "name": "stdout",
          "text": [
            "\n",
            "--- Model Evaluation ---\n",
            "\n",
            "SVM Accuracy: 0.9301\n",
            "Random Forest Accuracy: 0.9472\n",
            "\n",
            "--- SVM Classification Report ---\n",
            "              precision    recall  f1-score   support\n",
            "\n",
            "           0       0.90      0.96      0.93     44618\n",
            "           1       0.96      0.90      0.93     44618\n",
            "\n",
            "    accuracy                           0.93     89236\n",
            "   macro avg       0.93      0.93      0.93     89236\n",
            "weighted avg       0.93      0.93      0.93     89236\n",
            "\n",
            "\n",
            "--- Random Forest Classification Report ---\n",
            "              precision    recall  f1-score   support\n",
            "\n",
            "           0       0.92      0.98      0.95     44618\n",
            "           1       0.97      0.92      0.95     44618\n",
            "\n",
            "    accuracy                           0.95     89236\n",
            "   macro avg       0.95      0.95      0.95     89236\n",
            "weighted avg       0.95      0.95      0.95     89236\n",
            "\n",
            "\n",
            "SVM Confusion Matrix:\n",
            " [[42948  1670]\n",
            " [ 4571 40047]]\n",
            "\n",
            "RF Confusion Matrix:\n",
            " [[43526  1092]\n",
            " [ 3618 41000]]\n"
          ]
        }
      ]
    },
    {
      "cell_type": "code",
      "source": [
        "# ============================================================\n",
        "# === STEP 9: Save Trained Models ===\n",
        "# ============================================================\n",
        "joblib.dump(svm_model, \"/content/svm_model.pkl\")\n",
        "joblib.dump(rf_model, \"/content/rf_model.pkl\")\n",
        "joblib.dump(vectorizer, \"/content/vectorizer.pkl\")\n",
        "\n",
        "print(\"\\n✅ Models Saved Successfully!\")\n",
        "print(\"Files saved as:\")\n",
        "print(\" - svm_model.pkl\")\n",
        "print(\" - rf_model.pkl\")\n",
        "print(\" - vectorizer.pkl\")"
      ],
      "metadata": {
        "id": "hY5w3gJLU6mC",
        "outputId": "1fd9c480-0bad-425f-afc5-6d844d24f9f4",
        "colab": {
          "base_uri": "https://localhost:8080/"
        }
      },
      "execution_count": null,
      "outputs": [
        {
          "output_type": "stream",
          "name": "stdout",
          "text": [
            "\n",
            "✅ Models Saved Successfully!\n",
            "Files saved as:\n",
            " - svm_model.pkl\n",
            " - rf_model.pkl\n",
            " - vectorizer.pkl\n"
          ]
        }
      ]
    },
    {
      "cell_type": "code",
      "source": [
        "# ============================================================\n",
        "# === STEP 10: Test with a Sample URL ===\n",
        "# ============================================================\n",
        "sample_url = \"http://login-verify-secure-paypal.com\"\n",
        "sample_vec = vectorizer.transform([sample_url])\n",
        "\n",
        "pred_svm = svm_model.predict(sample_vec)[0]\n",
        "pred_rf = rf_model.predict(sample_vec)[0]\n",
        "\n",
        "print(\"\\n--- Sample URL Test ---\")\n",
        "print(\"URL:\", sample_url)\n",
        "print(f\"SVM Prediction: {'SPAM' if pred_svm else 'SAFE'}\")\n",
        "print(f\"RF Prediction: {'SPAM' if pred_rf else 'SAFE'}\")\n",
        "\n",
        "print(\"\\n🎉 All Steps Completed Successfully!\")\n"
      ],
      "metadata": {
        "id": "DHYLcPluU6jv",
        "outputId": "ab2a0e77-40d8-466c-d94c-66bde8307122",
        "colab": {
          "base_uri": "https://localhost:8080/"
        }
      },
      "execution_count": null,
      "outputs": [
        {
          "output_type": "stream",
          "name": "stdout",
          "text": [
            "\n",
            "--- Sample URL Test ---\n",
            "URL: http://login-verify-secure-paypal.com\n",
            "SVM Prediction: SPAM\n",
            "RF Prediction: SPAM\n",
            "\n",
            "🎉 All Steps Completed Successfully!\n"
          ]
        }
      ]
    },
    {
      "cell_type": "code",
      "source": [],
      "metadata": {
        "id": "kucDADr1U6hf"
      },
      "execution_count": null,
      "outputs": []
    }
  ]
}