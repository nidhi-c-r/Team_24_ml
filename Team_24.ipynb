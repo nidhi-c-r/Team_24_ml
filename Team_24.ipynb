{
  "nbformat": 4,
  "nbformat_minor": 0,
  "metadata": {
    "colab": {
      "provenance": []
    },
    "kernelspec": {
      "name": "python3",
      "display_name": "Python 3"
    },
    "language_info": {
      "name": "python"
    }
  },
  "cells": [
    {
      "cell_type": "code",
      "execution_count": 1,
      "metadata": {
        "id": "L83VepztU5TC"
      },
      "outputs": [],
      "source": [
        "# === STEP 1: Import Libraries ===\n",
        "import pandas as pd\n",
        "import numpy as np\n",
        "from sklearn.model_selection import train_test_split\n",
        "from sklearn.feature_extraction.text import TfidfVectorizer\n",
        "from sklearn.svm import SVC\n",
        "from sklearn.ensemble import RandomForestClassifier\n",
        "from sklearn.metrics import accuracy_score, classification_report, confusion_matrix\n",
        "import joblib"
      ]
    },
    {
      "cell_type": "code",
      "source": [
        "# ============================================================\n",
        "# === STEP 2: Load Dataset ===\n",
        "# ============================================================\n",
        "# Make sure you upload 'malicious_phish.csv' to your Colab files before running this cell.\n",
        "df = pd.read_csv(\"/content/malicious_phish.csv\")\n",
        "\n",
        "print(\"✅ Dataset Loaded Successfully!\")\n",
        "print(\"Dataset Shape:\", df.shape)\n",
        "print(\"\\nType distribution:\\n\", df['type'].value_counts())"
      ],
      "metadata": {
        "colab": {
          "base_uri": "https://localhost:8080/"
        },
        "id": "9oKvBu38U62e",
        "outputId": "5f650d70-239e-4d7b-9e0b-fab176e7184c"
      },
      "execution_count": 2,
      "outputs": [
        {
          "output_type": "stream",
          "name": "stdout",
          "text": [
            "✅ Dataset Loaded Successfully!\n",
            "Dataset Shape: (651191, 2)\n",
            "\n",
            "Type distribution:\n",
            " type\n",
            "benign        428103\n",
            "defacement     96457\n",
            "phishing       94111\n",
            "malware        32520\n",
            "Name: count, dtype: int64\n"
          ]
        }
      ]
    },
    {
      "cell_type": "code",
      "source": [
        "# ============================================================\n",
        "# === STEP 3: Convert to Binary Classification (Spam vs Non-Spam) ===\n",
        "# ============================================================\n",
        "\n",
        "# Mark benign as 0 (non-spam), others as 1 (spam)\n",
        "df['label'] = df['type'].apply(lambda x: 0 if x == 'benign' else 1)\n",
        "print(\"\\nLabel Distribution:\\n\", df['label'].value_counts())\n"
      ],
      "metadata": {
        "colab": {
          "base_uri": "https://localhost:8080/"
        },
        "id": "QXIJ0k6ZU6zG",
        "outputId": "a25e38b7-278a-49d6-dec1-22560f5a2516"
      },
      "execution_count": 3,
      "outputs": [
        {
          "output_type": "stream",
          "name": "stdout",
          "text": [
            "\n",
            "Label Distribution:\n",
            " label\n",
            "0    428103\n",
            "1    223088\n",
            "Name: count, dtype: int64\n"
          ]
        }
      ]
    },
    {
      "cell_type": "code",
      "source": [
        "# ============================================================\n",
        "# === STEP 4: Balance Dataset ===\n",
        "# ============================================================\n",
        "\n",
        "# Separate classes\n",
        "spam_df = df[df['label'] == 1]\n",
        "benign_df = df[df['label'] == 0]\n",
        "\n",
        "# Balance both classes to equal count\n",
        "min_size = min(len(spam_df), len(benign_df))\n",
        "spam_df = spam_df.sample(min_size, random_state=42)\n",
        "benign_df = benign_df.sample(min_size, random_state=42)\n",
        "\n",
        "# Combine and shuffle\n",
        "balanced_df = pd.concat([spam_df, benign_df]).sample(frac=1, random_state=42)\n",
        "\n",
        "print(\"\\nBalanced Label Distribution:\\n\", balanced_df['label'].value_counts())\n",
        "print(\"✅ Dataset Balanced Successfully!\")"
      ],
      "metadata": {
        "colab": {
          "base_uri": "https://localhost:8080/"
        },
        "id": "-jGStYjeU6xI",
        "outputId": "ab3691cb-ce9c-43aa-9c8e-012ec2de4b30"
      },
      "execution_count": 4,
      "outputs": [
        {
          "output_type": "stream",
          "name": "stdout",
          "text": [
            "\n",
            "Balanced Label Distribution:\n",
            " label\n",
            "1    223088\n",
            "0    223088\n",
            "Name: count, dtype: int64\n",
            "✅ Dataset Balanced Successfully!\n"
          ]
        }
      ]
    },
    {
      "cell_type": "code",
      "source": [
        "# ============================================================\n",
        "# === STEP 5: Prepare Features and Labels ===\n",
        "# ============================================================\n",
        "X = balanced_df['url']\n",
        "y = balanced_df['label']\n",
        "\n",
        "# Split into train/test\n",
        "X_train_raw, X_test_raw, y_train, y_test = train_test_split(\n",
        "    X, y, test_size=0.2, random_state=42, stratify=y\n",
        ")\n",
        "\n",
        "print(\"\\nTraining samples:\", len(X_train_raw))\n",
        "print(\"Testing samples:\", len(X_test_raw))"
      ],
      "metadata": {
        "colab": {
          "base_uri": "https://localhost:8080/"
        },
        "id": "ojN_8v-PU6u_",
        "outputId": "f3e7f2a7-c327-453f-af2a-43bcef1ffe99"
      },
      "execution_count": 5,
      "outputs": [
        {
          "output_type": "stream",
          "name": "stdout",
          "text": [
            "\n",
            "Training samples: 356940\n",
            "Testing samples: 89236\n"
          ]
        }
      ]
    },
    {
      "cell_type": "code",
      "source": [
        "# ============================================================\n",
        "# === STEP 6: Text Vectorization using TF-IDF ===\n",
        "# ============================================================\n",
        "vectorizer = TfidfVectorizer(max_features=3000)\n",
        "X_train = vectorizer.fit_transform(X_train_raw)\n",
        "X_test = vectorizer.transform(X_test_raw)\n",
        "\n",
        "print(\"\\n✅ TF-IDF Vectorization Complete\")\n",
        "print(\"Feature Matrix Shape:\", X_train.shape)"
      ],
      "metadata": {
        "id": "jfSHO5yFU6sy",
        "colab": {
          "base_uri": "https://localhost:8080/"
        },
        "outputId": "ffb2a01e-5a69-43f1-e829-4ad2892c7ce0"
      },
      "execution_count": 6,
      "outputs": [
        {
          "output_type": "stream",
          "name": "stdout",
          "text": [
            "\n",
            "✅ TF-IDF Vectorization Complete\n",
            "Feature Matrix Shape: (356940, 3000)\n"
          ]
        }
      ]
    },
    {
      "cell_type": "code",
      "source": [
        "# ============================================================\n",
        "# === STEP 7: Train Models (Optimized for 100k URLs) ===\n",
        "# ============================================================\n",
        "\n",
        "# --- Reduce dataset size to 100k (50k spam + 50k benign) ---\n",
        "spam_df_small = spam_df.sample(50000, random_state=42)\n",
        "benign_df_small = benign_df.sample(50000, random_state=42)\n",
        "balanced_small_df = pd.concat([spam_df_small, benign_df_small]).sample(frac=1, random_state=42)\n",
        "\n",
        "# Prepare features and labels\n",
        "X_small = balanced_small_df['url']\n",
        "y_small = balanced_small_df['label']\n",
        "\n",
        "# Split into train/test\n",
        "X_train_raw_small, X_test_raw_small, y_train_small, y_test_small = train_test_split(\n",
        "    X_small, y_small, test_size=0.2, random_state=42, stratify=y_small\n",
        ")\n",
        "\n",
        "# TF-IDF Vectorization (reduce max features to 1500 for speed)\n",
        "vectorizer_small = TfidfVectorizer(max_features=1500)\n",
        "X_train_small = vectorizer_small.fit_transform(X_train_raw_small)\n",
        "X_test_small = vectorizer_small.transform(X_test_raw_small)\n",
        "\n",
        "print(\"\\n✅ TF-IDF Vectorization Complete (Optimized)\")\n",
        "\n",
        "# --- Support Vector Machine ---\n",
        "print(\"\\n🎯 Training Support Vector Machine (SVM)...\")\n",
        "svm_model = SVC(kernel='linear', C=1, random_state=42)\n",
        "svm_model.fit(X_train_small, y_train_small)\n",
        "print(\"✅ SVM Model Trained Successfully!\")\n",
        "\n",
        "# --- Random Forest ---\n",
        "print(\"\\n🎯 Training Random Forest on 100k URLs...\")\n",
        "rf_model = RandomForestClassifier(n_estimators=100, random_state=42, n_jobs=-1)\n",
        "rf_model.fit(X_train_small, y_train_small)\n",
        "print(\"✅ Random Forest Model Trained Successfully!\")\n",
        "\n",
        "# --- Evaluate Models ---\n",
        "from sklearn.metrics import accuracy_score, classification_report, confusion_matrix\n",
        "\n",
        "print(\"\\n--- Model Evaluation ---\")\n",
        "\n",
        "# SVM\n",
        "y_pred_svm = svm_model.predict(X_test_small)\n",
        "acc_svm = accuracy_score(y_test_small, y_pred_svm)\n",
        "print(f\"\\nSVM Accuracy: {acc_svm:.4f}\")\n",
        "print(\"\\n--- SVM Classification Report ---\")\n",
        "print(classification_report(y_test_small, y_pred_svm))\n",
        "cm_svm = confusion_matrix(y_test_small, y_pred_svm)\n",
        "print(\"\\nSVM Confusion Matrix:\\n\", cm_svm)\n",
        "\n",
        "# Random Forest\n",
        "y_pred_rf = rf_model.predict(X_test_small)\n",
        "acc_rf = accuracy_score(y_test_small, y_pred_rf)\n",
        "print(f\"\\nRandom Forest Accuracy: {acc_rf:.4f}\")\n",
        "print(\"\\n--- Random Forest Classification Report ---\")\n",
        "print(classification_report(y_test_small, y_pred_rf))\n",
        "cm_rf = confusion_matrix(y_test_small, y_pred_rf)\n",
        "print(\"\\nRF Confusion Matrix:\\n\", cm_rf)\n",
        "\n",
        "# --- Save Models & Vectorizer ---\n",
        "import joblib\n",
        "joblib.dump(svm_model, \"/content/svm_model.pkl\")\n",
        "joblib.dump(rf_model, \"/content/rf_model.pkl\")\n",
        "joblib.dump(vectorizer_small, \"/content/vectorizer.pkl\")\n",
        "print(\"\\n✅ Models and vectorizer saved successfully!\")\n"
      ],
      "metadata": {
        "colab": {
          "base_uri": "https://localhost:8080/"
        },
        "id": "2fC9dACHY9mf",
        "outputId": "85d43f90-fd67-415c-c932-a0fdf04b4574"
      },
      "execution_count": 11,
      "outputs": [
        {
          "output_type": "stream",
          "name": "stdout",
          "text": [
            "\n",
            "✅ TF-IDF Vectorization Complete (Optimized)\n",
            "\n",
            "🎯 Training Support Vector Machine (SVM)...\n",
            "✅ SVM Model Trained Successfully!\n",
            "\n",
            "🎯 Training Random Forest on 100k URLs...\n",
            "✅ Random Forest Model Trained Successfully!\n",
            "\n",
            "--- Model Evaluation ---\n",
            "\n",
            "SVM Accuracy: 0.9195\n",
            "\n",
            "--- SVM Classification Report ---\n",
            "              precision    recall  f1-score   support\n",
            "\n",
            "           0       0.89      0.95      0.92     10000\n",
            "           1       0.95      0.88      0.92     10000\n",
            "\n",
            "    accuracy                           0.92     20000\n",
            "   macro avg       0.92      0.92      0.92     20000\n",
            "weighted avg       0.92      0.92      0.92     20000\n",
            "\n",
            "\n",
            "SVM Confusion Matrix:\n",
            " [[9549  451]\n",
            " [1159 8841]]\n",
            "\n",
            "Random Forest Accuracy: 0.9375\n",
            "\n",
            "--- Random Forest Classification Report ---\n",
            "              precision    recall  f1-score   support\n",
            "\n",
            "           0       0.91      0.97      0.94     10000\n",
            "           1       0.97      0.91      0.94     10000\n",
            "\n",
            "    accuracy                           0.94     20000\n",
            "   macro avg       0.94      0.94      0.94     20000\n",
            "weighted avg       0.94      0.94      0.94     20000\n",
            "\n",
            "\n",
            "RF Confusion Matrix:\n",
            " [[9676  324]\n",
            " [ 926 9074]]\n",
            "\n",
            "✅ Models and vectorizer saved successfully!\n"
          ]
        }
      ]
    },
    {
      "cell_type": "code",
      "source": [
        "# ============================================================\n",
        "# === STEP 8: Model Evaluation ===\n",
        "# ============================================================\n",
        "\n",
        "from sklearn.metrics import accuracy_score, classification_report, confusion_matrix\n",
        "\n",
        "print(\"\\n--- Model Evaluation ---\")\n",
        "\n",
        "# --- SVM Evaluation ---\n",
        "y_pred_svm = svm_model.predict(X_test_small)\n",
        "acc_svm = accuracy_score(y_test_small, y_pred_svm)\n",
        "print(f\"\\nSVM Accuracy: {acc_svm:.4f}\")\n",
        "print(\"\\n--- SVM Classification Report ---\")\n",
        "print(classification_report(y_test_small, y_pred_svm))\n",
        "cm_svm = confusion_matrix(y_test_small, y_pred_svm)\n",
        "print(\"\\nSVM Confusion Matrix:\\n\", cm_svm)\n",
        "\n",
        "# --- Random Forest Evaluation ---\n",
        "y_pred_rf = rf_model.predict(X_test_small)\n",
        "acc_rf = accuracy_score(y_test_small, y_pred_rf)\n",
        "print(f\"\\nRandom Forest Accuracy: {acc_rf:.4f}\")\n",
        "print(\"\\n--- Random Forest Classification Report ---\")\n",
        "print(classification_report(y_test_small, y_pred_rf))\n",
        "cm_rf = confusion_matrix(y_test_small, y_pred_rf)\n",
        "print(\"\\nRF Confusion Matrix:\\n\", cm_rf)"
      ],
      "metadata": {
        "id": "4Eb-hUF2U6oP",
        "colab": {
          "base_uri": "https://localhost:8080/"
        },
        "outputId": "8dfaef8c-5360-48ac-d638-a4cfb878719f"
      },
      "execution_count": 12,
      "outputs": [
        {
          "output_type": "stream",
          "name": "stdout",
          "text": [
            "\n",
            "--- Model Evaluation ---\n",
            "\n",
            "SVM Accuracy: 0.9195\n",
            "\n",
            "--- SVM Classification Report ---\n",
            "              precision    recall  f1-score   support\n",
            "\n",
            "           0       0.89      0.95      0.92     10000\n",
            "           1       0.95      0.88      0.92     10000\n",
            "\n",
            "    accuracy                           0.92     20000\n",
            "   macro avg       0.92      0.92      0.92     20000\n",
            "weighted avg       0.92      0.92      0.92     20000\n",
            "\n",
            "\n",
            "SVM Confusion Matrix:\n",
            " [[9549  451]\n",
            " [1159 8841]]\n",
            "\n",
            "Random Forest Accuracy: 0.9375\n",
            "\n",
            "--- Random Forest Classification Report ---\n",
            "              precision    recall  f1-score   support\n",
            "\n",
            "           0       0.91      0.97      0.94     10000\n",
            "           1       0.97      0.91      0.94     10000\n",
            "\n",
            "    accuracy                           0.94     20000\n",
            "   macro avg       0.94      0.94      0.94     20000\n",
            "weighted avg       0.94      0.94      0.94     20000\n",
            "\n",
            "\n",
            "RF Confusion Matrix:\n",
            " [[9676  324]\n",
            " [ 926 9074]]\n"
          ]
        }
      ]
    },
    {
      "cell_type": "code",
      "source": [
        "import joblib\n",
        "\n",
        "joblib.dump(svm_model, \"/content/svm_model.pkl\")\n",
        "joblib.dump(rf_model, \"/content/rf_model.pkl\")\n",
        "joblib.dump(vectorizer_small, \"/content/vectorizer.pkl\")\n",
        "\n",
        "print(\"\\n✅ Models and vectorizer saved successfully!\")\n",
        "print(\"Files saved as:\")\n",
        "print(\" - svm_model.pkl\")\n",
        "print(\" - rf_model.pkl\")\n",
        "print(\" - vectorizer.pkl\")"
      ],
      "metadata": {
        "id": "hY5w3gJLU6mC",
        "colab": {
          "base_uri": "https://localhost:8080/"
        },
        "outputId": "b5834a27-5a7a-4428-93db-8a7d5ff4131d"
      },
      "execution_count": 13,
      "outputs": [
        {
          "output_type": "stream",
          "name": "stdout",
          "text": [
            "\n",
            "✅ Models and vectorizer saved successfully!\n",
            "Files saved as:\n",
            " - svm_model.pkl\n",
            " - rf_model.pkl\n",
            " - vectorizer.pkl\n"
          ]
        }
      ]
    },
    {
      "cell_type": "code",
      "source": [
        "sample_url = \"http://login-verify-secure-paypal.com\"\n",
        "sample_vec = vectorizer_small.transform([sample_url])\n",
        "\n",
        "pred_svm = svm_model.predict(sample_vec)[0]\n",
        "pred_rf = rf_model.predict(sample_vec)[0]\n",
        "\n",
        "print(\"\\n--- Sample URL Test ---\")\n",
        "print(\"URL:\", sample_url)\n",
        "print(f\"SVM Prediction: {'SPAM' if pred_svm else 'SAFE'}\")\n",
        "print(f\"RF Prediction: {'SPAM' if pred_rf else 'SAFE'}\")"
      ],
      "metadata": {
        "id": "DHYLcPluU6jv",
        "colab": {
          "base_uri": "https://localhost:8080/"
        },
        "outputId": "a6e43de5-16ee-4454-f129-5ac996c3f820"
      },
      "execution_count": 14,
      "outputs": [
        {
          "output_type": "stream",
          "name": "stdout",
          "text": [
            "\n",
            "--- Sample URL Test ---\n",
            "URL: http://login-verify-secure-paypal.com\n",
            "SVM Prediction: SPAM\n",
            "RF Prediction: SPAM\n"
          ]
        }
      ]
    }
  ]
}